{
 "cells": [
  {
   "cell_type": "code",
   "execution_count": 156,
   "id": "3be12042",
   "metadata": {},
   "outputs": [],
   "source": [
    "# import streamlit as st\n",
    "import seaborn as sns\n",
    "import matplotlib.pyplot as plt\n",
    "import pandas as pd\n",
    "import numpy as np\n",
    "# excel preporcessor/work book\n",
    "from openpyxl import load_workbook\n",
    "import warnings\n",
    "warnings.filterwarnings(\"ignore\")"
   ]
  },
  {
   "cell_type": "code",
   "execution_count": 172,
   "id": "74bb7ba5",
   "metadata": {},
   "outputs": [
    {
     "data": {
      "text/plain": [
       "Index(['Region', 'County', 'Season to Date Actual', 'MonthTarget',\n",
       "       'MTD Target', 'MTD Actual', 'MTD Performance', 'MonthTarget.1',\n",
       "       'MTD Target.1', 'MTD Actual.1', 'MTD Performance.1', 'MonthTarget.2',\n",
       "       'MTD Target.2', 'MTD Actual.2', 'MTD Performance.2', 'Total Farmers',\n",
       "       'MTD Farmers', 'MTD Actual.3', 'MTD Performance.3'],\n",
       "      dtype='object')"
      ]
     },
     "execution_count": 172,
     "metadata": {},
     "output_type": "execute_result"
    }
   ],
   "source": [
    "def column_check(x):\n",
    "    if 'unnamed' in x.lower():\n",
    "        return False\n",
    "    if 'priority' in x.lower():\n",
    "        return False\n",
    "    if 'order' in x.lower():\n",
    "        return True\n",
    "    return True\n",
    "datafile='data\\Performance_Dashboard.xlsx'\n",
    "data = pd.read_excel(datafile,\n",
    "                     header=1, usecols=column_check)\n",
    "data=data.dropna()\n",
    "# data=data.set_index('Region')\n",
    "# data=data.dropna(axis=1)\n",
    "data.columns"
   ]
  },
  {
   "cell_type": "code",
   "execution_count": 292,
   "id": "765dc96b",
   "metadata": {},
   "outputs": [
    {
     "data": {
      "text/plain": [
       "Index(['Region', 'Total Farmers', 'MTD Farmers', 'MTD Actual'], dtype='object')"
      ]
     },
     "execution_count": 292,
     "metadata": {},
     "output_type": "execute_result"
    }
   ],
   "source": [
    "CashInput=data.groupby('Region')['Region','Season to Date Actual','MTD Target','MTD Actual'].sum().reset_index()\n",
    "Credit=data.groupby('Region')['MonthTarget','MTD Target','MTD Actual'].sum().reset_index()\n",
    "GeneralTotals=data.groupby('Region')['Total Farmers','MTD Farmers','MTD Actual'].sum().reset_index()\n",
    "GeneralTotals.columns"
   ]
  },
  {
   "cell_type": "code",
   "execution_count": 285,
   "id": "3591ed58",
   "metadata": {},
   "outputs": [],
   "source": [
    "# CashInput[['Coast', 'Dairy']]\n",
    "# sns.catplot(x='Dairy', y='Coast', col='Coast', data=GeneralTotals.T, kind='bar')"
   ]
  },
  {
   "cell_type": "code",
   "execution_count": 289,
   "id": "22a4fa37",
   "metadata": {},
   "outputs": [
    {
     "data": {
      "text/html": [
       "<div>\n",
       "<style scoped>\n",
       "    .dataframe tbody tr th:only-of-type {\n",
       "        vertical-align: middle;\n",
       "    }\n",
       "\n",
       "    .dataframe tbody tr th {\n",
       "        vertical-align: top;\n",
       "    }\n",
       "\n",
       "    .dataframe thead th {\n",
       "        text-align: right;\n",
       "    }\n",
       "</style>\n",
       "<table border=\"1\" class=\"dataframe\">\n",
       "  <thead>\n",
       "    <tr style=\"text-align: right;\">\n",
       "      <th></th>\n",
       "      <th>index</th>\n",
       "      <th>Region</th>\n",
       "      <th>Total Farmers</th>\n",
       "      <th>MTD Farmers</th>\n",
       "      <th>MTD Actual</th>\n",
       "    </tr>\n",
       "  </thead>\n",
       "  <tbody>\n",
       "    <tr>\n",
       "      <th>0</th>\n",
       "      <td>0</td>\n",
       "      <td>Coast</td>\n",
       "      <td>131111.0</td>\n",
       "      <td>223611.0</td>\n",
       "      <td>149834.0</td>\n",
       "    </tr>\n",
       "  </tbody>\n",
       "</table>\n",
       "</div>"
      ],
      "text/plain": [
       "   index Region  Total Farmers  MTD Farmers  MTD Actual\n",
       "0      0  Coast       131111.0     223611.0    149834.0"
      ]
     },
     "execution_count": 289,
     "metadata": {},
     "output_type": "execute_result"
    }
   ],
   "source": [
    "# CashInput.apply(list).reset_index()\n",
    "# # CashInput = CashInput.T\n",
    "# # st.text(\"Hello GeeksForGeeks!!!\")\n",
    "# # for x in CashInput:\n",
    "# #     datareg = CashInput[x]\n",
    "# #     print(datareg[1])\n",
    "# # #     st.write(datareg)\n",
    "# CashInput.columns\n",
    "GeneralTotals[GeneralTotals['Region']=='Coast']\n"
   ]
  },
  {
   "cell_type": "code",
   "execution_count": 106,
   "id": "830bd568",
   "metadata": {},
   "outputs": [
    {
     "data": {
      "text/plain": [
       "['November Performance Tracker',\n",
       " 'Sheet4',\n",
       " 'October Performance ',\n",
       " 'October Performance  (2)',\n",
       " 'November Targets summary']"
      ]
     },
     "execution_count": 106,
     "metadata": {},
     "output_type": "execute_result"
    }
   ],
   "source": [
    "# filename=data\n",
    "wb = load_workbook(filename = datafile)\n",
    "wb.sheetnames"
   ]
  },
  {
   "cell_type": "code",
   "execution_count": 130,
   "id": "401b061c",
   "metadata": {},
   "outputs": [],
   "source": [
    "# Data preprocessig function/ data cleaning function\n",
    "def clean_data(data):   \n",
    "    data=data.set_index('Region').T\n",
    "    data=data.dropna(axis=1)\n",
    "    return data"
   ]
  },
  {
   "cell_type": "code",
   "execution_count": 183,
   "id": "429e1166",
   "metadata": {},
   "outputs": [
    {
     "ename": "AttributeError",
     "evalue": "'str' object has no attribute 'values'",
     "output_type": "error",
     "traceback": [
      "\u001b[1;31m---------------------------------------------------------------------------\u001b[0m",
      "\u001b[1;31mAttributeError\u001b[0m                            Traceback (most recent call last)",
      "\u001b[1;32mC:\\Users\\MRDAVI~1\\AppData\\Local\\Temp/ipykernel_19512/2528724060.py\u001b[0m in \u001b[0;36m<module>\u001b[1;34m\u001b[0m\n\u001b[0;32m      1\u001b[0m \u001b[1;31m# data\u001b[0m\u001b[1;33m\u001b[0m\u001b[1;33m\u001b[0m\u001b[1;33m\u001b[0m\u001b[0m\n\u001b[0;32m      2\u001b[0m \u001b[1;32mfor\u001b[0m \u001b[0mx\u001b[0m \u001b[1;32min\u001b[0m  \u001b[0mGeneralTotals\u001b[0m\u001b[1;33m:\u001b[0m\u001b[1;33m\u001b[0m\u001b[1;33m\u001b[0m\u001b[0m\n\u001b[1;32m----> 3\u001b[1;33m     \u001b[0mprint\u001b[0m\u001b[1;33m(\u001b[0m\u001b[0mx\u001b[0m\u001b[1;33m.\u001b[0m\u001b[0mvalues\u001b[0m\u001b[1;33m(\u001b[0m\u001b[1;33m)\u001b[0m\u001b[1;33m)\u001b[0m\u001b[1;33m\u001b[0m\u001b[1;33m\u001b[0m\u001b[0m\n\u001b[0m",
      "\u001b[1;31mAttributeError\u001b[0m: 'str' object has no attribute 'values'"
     ]
    }
   ],
   "source": [
    "# data\n",
    "for x in  GeneralTotals:\n",
    "    print(x.values())"
   ]
  },
  {
   "cell_type": "code",
   "execution_count": null,
   "id": "b0953074",
   "metadata": {},
   "outputs": [],
   "source": []
  },
  {
   "cell_type": "code",
   "execution_count": null,
   "id": "2bc276e0",
   "metadata": {},
   "outputs": [],
   "source": [
    "\n"
   ]
  },
  {
   "cell_type": "code",
   "execution_count": null,
   "id": "50e0b8d4",
   "metadata": {},
   "outputs": [],
   "source": []
  }
 ],
 "metadata": {
  "kernelspec": {
   "display_name": "Python 3 (ipykernel)",
   "language": "python",
   "name": "python3"
  },
  "language_info": {
   "codemirror_mode": {
    "name": "ipython",
    "version": 3
   },
   "file_extension": ".py",
   "mimetype": "text/x-python",
   "name": "python",
   "nbconvert_exporter": "python",
   "pygments_lexer": "ipython3",
   "version": "3.9.6"
  }
 },
 "nbformat": 4,
 "nbformat_minor": 5
}
